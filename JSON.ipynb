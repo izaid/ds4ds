{
 "cells": [
  {
   "cell_type": "code",
   "execution_count": 30,
   "metadata": {
    "collapsed": true
   },
   "outputs": [],
   "source": [
    "from dynd import nd, ndt"
   ]
  },
  {
   "cell_type": "code",
   "execution_count": 31,
   "metadata": {
    "collapsed": true
   },
   "outputs": [],
   "source": [
    "data = [{\"name\": \"Alice\", \"credits\": [100, 200, -250]},\n",
    "    {\"name\": \"Bob\", \"credits\": [-200, -300]},\n",
    "    {\"name\": \"Charlie\", \"credits\": [100, -500, 600, -300]}]\n",
    "\n",
    "a = nd.array(data, dtype = \"{name: string, credits: var * int32}\")"
   ]
  },
  {
   "cell_type": "code",
   "execution_count": 33,
   "metadata": {
    "collapsed": false
   },
   "outputs": [
    {
     "data": {
      "text/plain": [
       "nd.array([    \"Bob\", \"Charlie\"],\n",
       "         type=\"var * string\")"
      ]
     },
     "execution_count": 33,
     "metadata": {},
     "output_type": "execute_result"
    }
   ],
   "source": [
    "nd.take(a, nd.sum(a.credits, axes = [1]) < 0).name"
   ]
  }
 ],
 "metadata": {
  "kernelspec": {
   "display_name": "Python 3",
   "language": "python",
   "name": "python3"
  },
  "language_info": {
   "codemirror_mode": {
    "name": "ipython",
    "version": 3
   },
   "file_extension": ".py",
   "mimetype": "text/x-python",
   "name": "python",
   "nbconvert_exporter": "python",
   "pygments_lexer": "ipython3",
   "version": "3.4.3"
  }
 },
 "nbformat": 4,
 "nbformat_minor": 0
}
