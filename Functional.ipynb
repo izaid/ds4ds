{
 "cells": [
  {
   "cell_type": "code",
   "execution_count": 2,
   "metadata": {
    "collapsed": true
   },
   "outputs": [],
   "source": [
    "from dynd import nd, ndt"
   ]
  },
  {
   "cell_type": "code",
   "execution_count": 3,
   "metadata": {
    "collapsed": false
   },
   "outputs": [
    {
     "data": {
      "text/plain": [
       "nd.array(<callable at 0x1ed9dd0>,\n",
       "         type=\"(Dims... * Scalar, Dims... * Scalar, Dims... * Scalar) -> Dims... * float64\")"
      ]
     },
     "execution_count": 3,
     "metadata": {},
     "output_type": "execute_result"
    }
   ],
   "source": [
    "@nd.functional.elwise\n",
    "def f(x, y, z) -> ndt.float64:\n",
    "    return 2 * x + y - z\n",
    "\n",
    "f"
   ]
  },
  {
   "cell_type": "code",
   "execution_count": 4,
   "metadata": {
    "collapsed": false
   },
   "outputs": [
    {
     "data": {
      "text/plain": [
       "nd.array([-2.5, -1.5, -2.5],\n",
       "         type=\"3 * float64\")"
      ]
     },
     "execution_count": 4,
     "metadata": {},
     "output_type": "execute_result"
    }
   ],
   "source": [
    "f([0, 3, 5], 2.5, [5, 10, 15])"
   ]
  },
  {
   "cell_type": "code",
   "execution_count": 3,
   "metadata": {
    "collapsed": false
   },
   "outputs": [
    {
     "data": {
      "text/plain": [
       "nd.array(<callable at 0x18172e0>,\n",
       "         type=\"(Dims... * Scalar, axes: ?Fixed * int32, identity: ?int32, keepdims: ?bool) -> Dims... * int32\")"
      ]
     },
     "execution_count": 3,
     "metadata": {},
     "output_type": "execute_result"
    }
   ],
   "source": [
    "@nd.functional.reduction\n",
    "def f(x, y) -> ndt.int32:\n",
    "    return max(x, y)\n",
    "\n",
    "f"
   ]
  },
  {
   "cell_type": "code",
   "execution_count": 4,
   "metadata": {
    "collapsed": false
   },
   "outputs": [
    {
     "data": {
      "text/plain": [
       "nd.array(7,\n",
       "         type=\"int32\")"
      ]
     },
     "execution_count": 4,
     "metadata": {},
     "output_type": "execute_result"
    }
   ],
   "source": [
    "f([-5, 5, -3, 7, 2, -1])"
   ]
  },
  {
   "cell_type": "code",
   "execution_count": 5,
   "metadata": {
    "collapsed": false
   },
   "outputs": [
    {
     "data": {
      "text/plain": [
       "nd.array(101,\n",
       "         type=\"int32\")"
      ]
     },
     "execution_count": 5,
     "metadata": {},
     "output_type": "execute_result"
    }
   ],
   "source": [
    "f([-5, 5, -3, 7, 2, -1], identity = 101)"
   ]
  },
  {
   "cell_type": "code",
   "execution_count": 8,
   "metadata": {
    "collapsed": false
   },
   "outputs": [
    {
     "data": {
      "text/plain": [
       "nd.array(<callable at 0x21046f0>,\n",
       "         type=\"(Dims... * Scalar) -> Dims... * Scalar\")"
      ]
     },
     "execution_count": 8,
     "metadata": {},
     "output_type": "execute_result"
    }
   ],
   "source": [
    "import math\n",
    "\n",
    "@nd.functional.apply\n",
    "def f_factorial(n: ndt.int32) -> ndt.int32:\n",
    "    return math.factorial(n - 1)\n",
    "\n",
    "@nd.functional.apply\n",
    "def f_gamma(x: ndt.float64) -> ndt.float64:\n",
    "    return math.gamma(x)\n",
    "\n",
    "f = nd.functional.elwise(nd.functional.multidispatch(ndt.type('(Scalar) -> Scalar'), [f_factorial, f_gamma]))\n",
    "\n",
    "f"
   ]
  },
  {
   "cell_type": "code",
   "execution_count": 9,
   "metadata": {
    "collapsed": false
   },
   "outputs": [
    {
     "data": {
      "text/plain": [
       "nd.array([24,  6,  2,  1,  1],\n",
       "         type=\"5 * int32\")"
      ]
     },
     "execution_count": 9,
     "metadata": {},
     "output_type": "execute_result"
    }
   ],
   "source": [
    "f([5, 4, 3, 2, 1])"
   ]
  },
  {
   "cell_type": "code",
   "execution_count": 10,
   "metadata": {
    "collapsed": false
   },
   "outputs": [
    {
     "data": {
      "text/plain": [
       "nd.array([ 52.3428,  11.6317,  3.32335,  1.32934, 0.886227],\n",
       "         type=\"5 * float64\")"
      ]
     },
     "execution_count": 10,
     "metadata": {},
     "output_type": "execute_result"
    }
   ],
   "source": [
    "f([5.5, 4.5, 3.5, 2.5, 1.5])"
   ]
  },
  {
   "cell_type": "code",
   "execution_count": null,
   "metadata": {
    "collapsed": true
   },
   "outputs": [],
   "source": []
  }
 ],
 "metadata": {
  "kernelspec": {
   "display_name": "Python 3",
   "language": "python",
   "name": "python3"
  },
  "language_info": {
   "codemirror_mode": {
    "name": "ipython",
    "version": 3
   },
   "file_extension": ".py",
   "mimetype": "text/x-python",
   "name": "python",
   "nbconvert_exporter": "python",
   "pygments_lexer": "ipython3",
   "version": "3.4.3"
  }
 },
 "nbformat": 4,
 "nbformat_minor": 0
}
