{
 "cells": [
  {
   "cell_type": "code",
   "execution_count": 1,
   "metadata": {
    "collapsed": true
   },
   "outputs": [],
   "source": [
    "from dynd import nd, ndt"
   ]
  },
  {
   "cell_type": "code",
   "execution_count": 48,
   "metadata": {
    "collapsed": false
   },
   "outputs": [
    {
     "data": {
      "text/plain": [
       "nd.array(<callable at 0x152e730>,\n",
       "         type=\"(Dims... * Scalar, Dims... * Scalar, Dims... * Scalar) -> Dims... * float64\")"
      ]
     },
     "execution_count": 48,
     "metadata": {},
     "output_type": "execute_result"
    }
   ],
   "source": [
    "@nd.functional.elwise\n",
    "def f(x, y, z) -> ndt.float64:\n",
    "    return 2 * x + y - z\n",
    "\n",
    "f"
   ]
  },
  {
   "cell_type": "code",
   "execution_count": 54,
   "metadata": {
    "collapsed": false
   },
   "outputs": [
    {
     "data": {
      "text/plain": [
       "nd.array([-2.5, -1.5, -2.5],\n",
       "         type=\"3 * float64\")"
      ]
     },
     "execution_count": 54,
     "metadata": {},
     "output_type": "execute_result"
    }
   ],
   "source": [
    "f([0, 3, 5], 2.5, [5, 10, 15])"
   ]
  },
  {
   "cell_type": "code",
   "execution_count": 56,
   "metadata": {
    "collapsed": false
   },
   "outputs": [
    {
     "data": {
      "text/plain": [
       "nd.array(<callable at 0x153d360>,\n",
       "         type=\"(Dims... * Scalar, axes: ?Fixed * int32, identity: ?float64, keepdims: ?bool) -> Dims... * float64\")"
      ]
     },
     "execution_count": 56,
     "metadata": {},
     "output_type": "execute_result"
    }
   ],
   "source": [
    "@nd.functional.reduction\n",
    "def f(x, y) -> ndt.float64:\n",
    "    return max(x, y)\n",
    "\n",
    "f"
   ]
  },
  {
   "cell_type": "code",
   "execution_count": 58,
   "metadata": {
    "collapsed": false
   },
   "outputs": [
    {
     "data": {
      "text/plain": [
       "nd.array(7,\n",
       "         type=\"float64\")"
      ]
     },
     "execution_count": 58,
     "metadata": {},
     "output_type": "execute_result"
    }
   ],
   "source": [
    "f([-5, 5, -3, 7, 2, -1])"
   ]
  },
  {
   "cell_type": "code",
   "execution_count": 59,
   "metadata": {
    "collapsed": false
   },
   "outputs": [
    {
     "data": {
      "text/plain": [
       "nd.array(<callable at 0x153dd10>,\n",
       "         type=\"(Dims... * Scalar) -> Dims... * Scalar\")"
      ]
     },
     "execution_count": 59,
     "metadata": {},
     "output_type": "execute_result"
    }
   ],
   "source": [
    "import math\n",
    "\n",
    "@nd.functional.apply\n",
    "def f_factorial(n: ndt.int32) -> ndt.int32:\n",
    "    return math.factorial(n - 1)\n",
    "\n",
    "@nd.functional.apply\n",
    "def f_gamma(x: ndt.float64) -> ndt.float64:\n",
    "    return math.gamma(x)\n",
    "\n",
    "f = nd.functional.elwise(nd.functional.multidispatch(ndt.type('(Scalar) -> Scalar'), [f_factorial, f_gamma]))\n",
    "\n",
    "f"
   ]
  },
  {
   "cell_type": "code",
   "execution_count": 62,
   "metadata": {
    "collapsed": false
   },
   "outputs": [
    {
     "data": {
      "text/plain": [
       "nd.array(2,\n",
       "         type=\"int32\")"
      ]
     },
     "execution_count": 62,
     "metadata": {},
     "output_type": "execute_result"
    }
   ],
   "source": [
    "f(3)"
   ]
  },
  {
   "cell_type": "code",
   "execution_count": 61,
   "metadata": {
    "collapsed": false
   },
   "outputs": [
    {
     "data": {
      "text/plain": [
       "nd.array(3.32335,\n",
       "         type=\"float64\")"
      ]
     },
     "execution_count": 61,
     "metadata": {},
     "output_type": "execute_result"
    }
   ],
   "source": [
    "f(3.5)"
   ]
  }
 ],
 "metadata": {
  "kernelspec": {
   "display_name": "Python 3",
   "language": "python",
   "name": "python3"
  },
  "language_info": {
   "codemirror_mode": {
    "name": "ipython",
    "version": 3
   },
   "file_extension": ".py",
   "mimetype": "text/x-python",
   "name": "python",
   "nbconvert_exporter": "python",
   "pygments_lexer": "ipython3",
   "version": "3.4.3"
  }
 },
 "nbformat": 4,
 "nbformat_minor": 0
}
