{
 "cells": [
  {
   "cell_type": "markdown",
   "metadata": {},
   "source": [
    "nd::callable f = nd::functional::apply([](int x, int y) {return x + y});\n",
    "\n",
    "f.get_single().ir"
   ]
  },
  {
   "cell_type": "markdown",
   "metadata": {},
   "source": [
    "; Function Attrs: nounwind uwtable\n",
    "define internal void @\"_ZN4dynd2nd11base_kernelINS0_10functional17apply_callable_ckIZN18Callable_LLVM_Test8TestBodyEvE4$_13iNS_13type_sequenceIJiiEEENS_16integer_sequenceImJLm0ELm1EEEENS6_IJEEENS8_ImJEEEEEJEE14single_wrapper4funcEPNS_14ckernel_prefixEPcPKSH_\"(%\"struct.dynd::ckernel_prefix\"* nocapture readnone %self, i8* nocapture %dst, i8** nocapture readonly %src) #13 align 2 {\n",
    "  %1 = bitcast i8** %src to i32**\n",
    "  %src.val1 = load i32** %1, align 8, !tbaa !2\n",
    "  %src.idx = getelementptr i8** %src, i64 1\n",
    "  %2 = bitcast i8** %src.idx to i32**\n",
    "  %src.idx.val2 = load i32** %2, align 8, !tbaa !2\n",
    "  %3 = load i32* %src.val1, align 4, !tbaa !6\n",
    "  %4 = load i32* %src.idx.val2, align 4, !tbaa !6\n",
    "  %5 = add nsw i32 %4, %3\n",
    "  %6 = bitcast i8* %dst to i32*\n",
    "  store i32 %5, i32* %6, align 4, !tbaa !6\n",
    "  ret void\n",
    "}"
   ]
  }
 ],
 "metadata": {
  "kernelspec": {
   "display_name": "Python 3",
   "language": "python",
   "name": "python3"
  },
  "language_info": {
   "codemirror_mode": {
    "name": "ipython",
    "version": 3
   },
   "file_extension": ".py",
   "mimetype": "text/x-python",
   "name": "python",
   "nbconvert_exporter": "python",
   "pygments_lexer": "ipython3",
   "version": "3.4.3"
  }
 },
 "nbformat": 4,
 "nbformat_minor": 0
}
